{
 "cells": [
  {
   "cell_type": "markdown",
   "id": "92f8c610",
   "metadata": {},
   "source": [
    "## To build a logistic regression model to assign a lead score between 0 and 100 to each lead, we'll follow these steps\n",
    "\n",
    "### Data Preprocessing:\n",
    "\n",
    "Handle missing values and 'Select' values.\n",
    "Encode categorical variables.\n",
    "Scale numerical features.\n",
    "\n",
    "### Model Building:\n",
    "\n",
    "Split the data into training and testing sets.\n",
    "Train a logistic regression model.\n",
    "\n",
    "### Model Evaluation:\n",
    "\n",
    "Evaluate the model performance using various metrics.\n",
    "Calculate the lead score and interpret the results.\n",
    "\n",
    "### Assigning Lead Scores:\n",
    "\n",
    "Use the logistic regression model to predict probabilities for each lead.\n",
    "Scale these probabilities to a 0-100 range."
   ]
  },
  {
   "cell_type": "markdown",
   "id": "f445f142",
   "metadata": {},
   "source": [
    "## Step 1: Data Preprocessing\n",
    "\n",
    "### 1.1 Importing Necessary Libraries"
   ]
  },
  {
   "cell_type": "code",
   "execution_count": 17,
   "id": "afb9e36e",
   "metadata": {},
   "outputs": [],
   "source": [
    "import pandas as pd\n",
    "import numpy as np\n",
    "import seaborn as sns\n",
    "import matplotlib.pyplot as plt\n",
    "from sklearn.model_selection import train_test_split\n",
    "from sklearn.preprocessing import StandardScaler, OneHotEncoder\n",
    "from sklearn.linear_model import LogisticRegression\n",
    "from sklearn.metrics import accuracy_score, precision_score, recall_score, roc_auc_score, roc_curve, confusion_matrix\n",
    "from sklearn.pipeline import Pipeline\n",
    "from sklearn.compose import ColumnTransformer\n"
   ]
  },
  {
   "cell_type": "markdown",
   "id": "7e610ed0",
   "metadata": {},
   "source": [
    "### 1.2 Loading the Data"
   ]
  },
  {
   "cell_type": "code",
   "execution_count": 18,
   "id": "ff16ceb6",
   "metadata": {},
   "outputs": [],
   "source": [
    "data = pd.read_csv('leads.csv')\n"
   ]
  },
  {
   "cell_type": "markdown",
   "id": "a195daf3",
   "metadata": {},
   "source": [
    "### 1.3 Handling Missing Values and Categorical Levels\n",
    "\n",
    "Replace 'Select' with NaN and drop columns with high percentage of missing values.\n",
    "Drop rows with missing values for simplicity."
   ]
  },
  {
   "cell_type": "code",
   "execution_count": 19,
   "id": "24f108f6",
   "metadata": {},
   "outputs": [],
   "source": [
    "data.replace('Select', np.nan, inplace=True)\n",
    "data.drop(columns=['Lead Number', 'Prospect ID'], inplace=True)  # Dropping non-informative columns\n",
    "data.dropna(thresh=data.shape[1]*0.7, axis=1, inplace=True)  # Drop columns with more than 30% missing values\n",
    "data.dropna(inplace=True)  # Drop rows with any missing values\n"
   ]
  },
  {
   "cell_type": "markdown",
   "id": "c601a03d",
   "metadata": {},
   "source": [
    "### 1.4 Encoding Categorical Variables\n",
    "\n",
    "We will use OneHotEncoder for categorical variables and scale numerical variables using StandardScaler."
   ]
  },
  {
   "cell_type": "markdown",
   "id": "0ca5a67e",
   "metadata": {},
   "source": [
    "## Step 2: Model Building\n",
    "\n",
    "### 2.1 Splitting the Data"
   ]
  },
  {
   "cell_type": "code",
   "execution_count": 20,
   "id": "15408566",
   "metadata": {},
   "outputs": [],
   "source": [
    "X = data.drop('Converted', axis=1)\n",
    "y = data['Converted']\n",
    "X_train, X_test, y_train, y_test = train_test_split(X, y, test_size=0.3, random_state=42)\n"
   ]
  },
  {
   "cell_type": "markdown",
   "id": "bd7ebc76",
   "metadata": {},
   "source": [
    "### 2.2 Creating Preprocessing Pipelines"
   ]
  },
  {
   "cell_type": "code",
   "execution_count": 21,
   "id": "c3894bba",
   "metadata": {},
   "outputs": [],
   "source": [
    "numerical_features = ['TotalVisits', 'Total Time Spent on Website', 'Page Views Per Visit']\n",
    "categorical_features = X.select_dtypes(include=['object']).columns.tolist()\n",
    "\n",
    "numeric_transformer = Pipeline(steps=[\n",
    "    ('scaler', StandardScaler())\n",
    "])\n",
    "\n",
    "categorical_transformer = Pipeline(steps=[\n",
    "    ('onehot', OneHotEncoder(handle_unknown='ignore'))\n",
    "])\n",
    "\n",
    "preprocessor = ColumnTransformer(\n",
    "    transformers=[\n",
    "        ('num', numeric_transformer, numerical_features),\n",
    "        ('cat', categorical_transformer, categorical_features)\n",
    "    ])\n"
   ]
  },
  {
   "cell_type": "markdown",
   "id": "4ef11e11",
   "metadata": {},
   "source": [
    "### 2.3 Training the Logistic Regression Model"
   ]
  },
  {
   "cell_type": "code",
   "execution_count": 22,
   "id": "8c994f31",
   "metadata": {},
   "outputs": [
    {
     "data": {
      "text/html": [
       "<style>#sk-container-id-2 {color: black;}#sk-container-id-2 pre{padding: 0;}#sk-container-id-2 div.sk-toggleable {background-color: white;}#sk-container-id-2 label.sk-toggleable__label {cursor: pointer;display: block;width: 100%;margin-bottom: 0;padding: 0.3em;box-sizing: border-box;text-align: center;}#sk-container-id-2 label.sk-toggleable__label-arrow:before {content: \"▸\";float: left;margin-right: 0.25em;color: #696969;}#sk-container-id-2 label.sk-toggleable__label-arrow:hover:before {color: black;}#sk-container-id-2 div.sk-estimator:hover label.sk-toggleable__label-arrow:before {color: black;}#sk-container-id-2 div.sk-toggleable__content {max-height: 0;max-width: 0;overflow: hidden;text-align: left;background-color: #f0f8ff;}#sk-container-id-2 div.sk-toggleable__content pre {margin: 0.2em;color: black;border-radius: 0.25em;background-color: #f0f8ff;}#sk-container-id-2 input.sk-toggleable__control:checked~div.sk-toggleable__content {max-height: 200px;max-width: 100%;overflow: auto;}#sk-container-id-2 input.sk-toggleable__control:checked~label.sk-toggleable__label-arrow:before {content: \"▾\";}#sk-container-id-2 div.sk-estimator input.sk-toggleable__control:checked~label.sk-toggleable__label {background-color: #d4ebff;}#sk-container-id-2 div.sk-label input.sk-toggleable__control:checked~label.sk-toggleable__label {background-color: #d4ebff;}#sk-container-id-2 input.sk-hidden--visually {border: 0;clip: rect(1px 1px 1px 1px);clip: rect(1px, 1px, 1px, 1px);height: 1px;margin: -1px;overflow: hidden;padding: 0;position: absolute;width: 1px;}#sk-container-id-2 div.sk-estimator {font-family: monospace;background-color: #f0f8ff;border: 1px dotted black;border-radius: 0.25em;box-sizing: border-box;margin-bottom: 0.5em;}#sk-container-id-2 div.sk-estimator:hover {background-color: #d4ebff;}#sk-container-id-2 div.sk-parallel-item::after {content: \"\";width: 100%;border-bottom: 1px solid gray;flex-grow: 1;}#sk-container-id-2 div.sk-label:hover label.sk-toggleable__label {background-color: #d4ebff;}#sk-container-id-2 div.sk-serial::before {content: \"\";position: absolute;border-left: 1px solid gray;box-sizing: border-box;top: 0;bottom: 0;left: 50%;z-index: 0;}#sk-container-id-2 div.sk-serial {display: flex;flex-direction: column;align-items: center;background-color: white;padding-right: 0.2em;padding-left: 0.2em;position: relative;}#sk-container-id-2 div.sk-item {position: relative;z-index: 1;}#sk-container-id-2 div.sk-parallel {display: flex;align-items: stretch;justify-content: center;background-color: white;position: relative;}#sk-container-id-2 div.sk-item::before, #sk-container-id-2 div.sk-parallel-item::before {content: \"\";position: absolute;border-left: 1px solid gray;box-sizing: border-box;top: 0;bottom: 0;left: 50%;z-index: -1;}#sk-container-id-2 div.sk-parallel-item {display: flex;flex-direction: column;z-index: 1;position: relative;background-color: white;}#sk-container-id-2 div.sk-parallel-item:first-child::after {align-self: flex-end;width: 50%;}#sk-container-id-2 div.sk-parallel-item:last-child::after {align-self: flex-start;width: 50%;}#sk-container-id-2 div.sk-parallel-item:only-child::after {width: 0;}#sk-container-id-2 div.sk-dashed-wrapped {border: 1px dashed gray;margin: 0 0.4em 0.5em 0.4em;box-sizing: border-box;padding-bottom: 0.4em;background-color: white;}#sk-container-id-2 div.sk-label label {font-family: monospace;font-weight: bold;display: inline-block;line-height: 1.2em;}#sk-container-id-2 div.sk-label-container {text-align: center;}#sk-container-id-2 div.sk-container {/* jupyter's `normalize.less` sets `[hidden] { display: none; }` but bootstrap.min.css set `[hidden] { display: none !important; }` so we also need the `!important` here to be able to override the default hidden behavior on the sphinx rendered scikit-learn.org. See: https://github.com/scikit-learn/scikit-learn/issues/21755 */display: inline-block !important;position: relative;}#sk-container-id-2 div.sk-text-repr-fallback {display: none;}</style><div id=\"sk-container-id-2\" class=\"sk-top-container\"><div class=\"sk-text-repr-fallback\"><pre>Pipeline(steps=[(&#x27;preprocessor&#x27;,\n",
       "                 ColumnTransformer(transformers=[(&#x27;num&#x27;,\n",
       "                                                  Pipeline(steps=[(&#x27;scaler&#x27;,\n",
       "                                                                   StandardScaler())]),\n",
       "                                                  [&#x27;TotalVisits&#x27;,\n",
       "                                                   &#x27;Total Time Spent on &#x27;\n",
       "                                                   &#x27;Website&#x27;,\n",
       "                                                   &#x27;Page Views Per Visit&#x27;]),\n",
       "                                                 (&#x27;cat&#x27;,\n",
       "                                                  Pipeline(steps=[(&#x27;onehot&#x27;,\n",
       "                                                                   OneHotEncoder(handle_unknown=&#x27;ignore&#x27;))]),\n",
       "                                                  [&#x27;Lead Origin&#x27;, &#x27;Lead Source&#x27;,\n",
       "                                                   &#x27;Do Not Email&#x27;,\n",
       "                                                   &#x27;Do Not Call&#x27;,\n",
       "                                                   &#x27;Last Activity&#x27;, &#x27;Country&#x27;,\n",
       "                                                   &#x27;Specialization&#x27;...\n",
       "                                                   &#x27;Receive More Updates About &#x27;\n",
       "                                                   &#x27;Our Courses&#x27;,\n",
       "                                                   &#x27;Tags&#x27;, &#x27;Lead Quality&#x27;,\n",
       "                                                   &#x27;Update me on Supply Chain &#x27;\n",
       "                                                   &#x27;Content&#x27;,\n",
       "                                                   &#x27;Get updates on DM Content&#x27;,\n",
       "                                                   &#x27;Lead Profile&#x27;, &#x27;City&#x27;,\n",
       "                                                   &#x27;Asymmetrique Activity &#x27;\n",
       "                                                   &#x27;Index&#x27;,\n",
       "                                                   &#x27;Asymmetrique Profile Index&#x27;,\n",
       "                                                   &#x27;I agree to pay the amount &#x27;\n",
       "                                                   &#x27;through cheque&#x27;,\n",
       "                                                   &#x27;A free copy of Mastering &#x27;\n",
       "                                                   &#x27;The Interview&#x27;,\n",
       "                                                   &#x27;Last Notable Activity&#x27;])])),\n",
       "                (&#x27;classifier&#x27;,\n",
       "                 LogisticRegression(max_iter=1000, random_state=42))])</pre><b>In a Jupyter environment, please rerun this cell to show the HTML representation or trust the notebook. <br />On GitHub, the HTML representation is unable to render, please try loading this page with nbviewer.org.</b></div><div class=\"sk-container\" hidden><div class=\"sk-item sk-dashed-wrapped\"><div class=\"sk-label-container\"><div class=\"sk-label sk-toggleable\"><input class=\"sk-toggleable__control sk-hidden--visually\" id=\"sk-estimator-id-8\" type=\"checkbox\" ><label for=\"sk-estimator-id-8\" class=\"sk-toggleable__label sk-toggleable__label-arrow\">Pipeline</label><div class=\"sk-toggleable__content\"><pre>Pipeline(steps=[(&#x27;preprocessor&#x27;,\n",
       "                 ColumnTransformer(transformers=[(&#x27;num&#x27;,\n",
       "                                                  Pipeline(steps=[(&#x27;scaler&#x27;,\n",
       "                                                                   StandardScaler())]),\n",
       "                                                  [&#x27;TotalVisits&#x27;,\n",
       "                                                   &#x27;Total Time Spent on &#x27;\n",
       "                                                   &#x27;Website&#x27;,\n",
       "                                                   &#x27;Page Views Per Visit&#x27;]),\n",
       "                                                 (&#x27;cat&#x27;,\n",
       "                                                  Pipeline(steps=[(&#x27;onehot&#x27;,\n",
       "                                                                   OneHotEncoder(handle_unknown=&#x27;ignore&#x27;))]),\n",
       "                                                  [&#x27;Lead Origin&#x27;, &#x27;Lead Source&#x27;,\n",
       "                                                   &#x27;Do Not Email&#x27;,\n",
       "                                                   &#x27;Do Not Call&#x27;,\n",
       "                                                   &#x27;Last Activity&#x27;, &#x27;Country&#x27;,\n",
       "                                                   &#x27;Specialization&#x27;...\n",
       "                                                   &#x27;Receive More Updates About &#x27;\n",
       "                                                   &#x27;Our Courses&#x27;,\n",
       "                                                   &#x27;Tags&#x27;, &#x27;Lead Quality&#x27;,\n",
       "                                                   &#x27;Update me on Supply Chain &#x27;\n",
       "                                                   &#x27;Content&#x27;,\n",
       "                                                   &#x27;Get updates on DM Content&#x27;,\n",
       "                                                   &#x27;Lead Profile&#x27;, &#x27;City&#x27;,\n",
       "                                                   &#x27;Asymmetrique Activity &#x27;\n",
       "                                                   &#x27;Index&#x27;,\n",
       "                                                   &#x27;Asymmetrique Profile Index&#x27;,\n",
       "                                                   &#x27;I agree to pay the amount &#x27;\n",
       "                                                   &#x27;through cheque&#x27;,\n",
       "                                                   &#x27;A free copy of Mastering &#x27;\n",
       "                                                   &#x27;The Interview&#x27;,\n",
       "                                                   &#x27;Last Notable Activity&#x27;])])),\n",
       "                (&#x27;classifier&#x27;,\n",
       "                 LogisticRegression(max_iter=1000, random_state=42))])</pre></div></div></div><div class=\"sk-serial\"><div class=\"sk-item sk-dashed-wrapped\"><div class=\"sk-label-container\"><div class=\"sk-label sk-toggleable\"><input class=\"sk-toggleable__control sk-hidden--visually\" id=\"sk-estimator-id-9\" type=\"checkbox\" ><label for=\"sk-estimator-id-9\" class=\"sk-toggleable__label sk-toggleable__label-arrow\">preprocessor: ColumnTransformer</label><div class=\"sk-toggleable__content\"><pre>ColumnTransformer(transformers=[(&#x27;num&#x27;,\n",
       "                                 Pipeline(steps=[(&#x27;scaler&#x27;, StandardScaler())]),\n",
       "                                 [&#x27;TotalVisits&#x27;, &#x27;Total Time Spent on Website&#x27;,\n",
       "                                  &#x27;Page Views Per Visit&#x27;]),\n",
       "                                (&#x27;cat&#x27;,\n",
       "                                 Pipeline(steps=[(&#x27;onehot&#x27;,\n",
       "                                                  OneHotEncoder(handle_unknown=&#x27;ignore&#x27;))]),\n",
       "                                 [&#x27;Lead Origin&#x27;, &#x27;Lead Source&#x27;, &#x27;Do Not Email&#x27;,\n",
       "                                  &#x27;Do Not Call&#x27;, &#x27;Last Activity&#x27;, &#x27;Country&#x27;,\n",
       "                                  &#x27;Specialization&#x27;,\n",
       "                                  &#x27;How did you hear about X Education&#x27;,\n",
       "                                  &#x27;W...\n",
       "                                  &#x27;X Education Forums&#x27;, &#x27;Newspaper&#x27;,\n",
       "                                  &#x27;Digital Advertisement&#x27;,\n",
       "                                  &#x27;Through Recommendations&#x27;,\n",
       "                                  &#x27;Receive More Updates About Our Courses&#x27;,\n",
       "                                  &#x27;Tags&#x27;, &#x27;Lead Quality&#x27;,\n",
       "                                  &#x27;Update me on Supply Chain Content&#x27;,\n",
       "                                  &#x27;Get updates on DM Content&#x27;, &#x27;Lead Profile&#x27;,\n",
       "                                  &#x27;City&#x27;, &#x27;Asymmetrique Activity Index&#x27;,\n",
       "                                  &#x27;Asymmetrique Profile Index&#x27;,\n",
       "                                  &#x27;I agree to pay the amount through cheque&#x27;,\n",
       "                                  &#x27;A free copy of Mastering The Interview&#x27;,\n",
       "                                  &#x27;Last Notable Activity&#x27;])])</pre></div></div></div><div class=\"sk-parallel\"><div class=\"sk-parallel-item\"><div class=\"sk-item\"><div class=\"sk-label-container\"><div class=\"sk-label sk-toggleable\"><input class=\"sk-toggleable__control sk-hidden--visually\" id=\"sk-estimator-id-10\" type=\"checkbox\" ><label for=\"sk-estimator-id-10\" class=\"sk-toggleable__label sk-toggleable__label-arrow\">num</label><div class=\"sk-toggleable__content\"><pre>[&#x27;TotalVisits&#x27;, &#x27;Total Time Spent on Website&#x27;, &#x27;Page Views Per Visit&#x27;]</pre></div></div></div><div class=\"sk-serial\"><div class=\"sk-item\"><div class=\"sk-serial\"><div class=\"sk-item\"><div class=\"sk-estimator sk-toggleable\"><input class=\"sk-toggleable__control sk-hidden--visually\" id=\"sk-estimator-id-11\" type=\"checkbox\" ><label for=\"sk-estimator-id-11\" class=\"sk-toggleable__label sk-toggleable__label-arrow\">StandardScaler</label><div class=\"sk-toggleable__content\"><pre>StandardScaler()</pre></div></div></div></div></div></div></div></div><div class=\"sk-parallel-item\"><div class=\"sk-item\"><div class=\"sk-label-container\"><div class=\"sk-label sk-toggleable\"><input class=\"sk-toggleable__control sk-hidden--visually\" id=\"sk-estimator-id-12\" type=\"checkbox\" ><label for=\"sk-estimator-id-12\" class=\"sk-toggleable__label sk-toggleable__label-arrow\">cat</label><div class=\"sk-toggleable__content\"><pre>[&#x27;Lead Origin&#x27;, &#x27;Lead Source&#x27;, &#x27;Do Not Email&#x27;, &#x27;Do Not Call&#x27;, &#x27;Last Activity&#x27;, &#x27;Country&#x27;, &#x27;Specialization&#x27;, &#x27;How did you hear about X Education&#x27;, &#x27;What is your current occupation&#x27;, &#x27;What matters most to you in choosing a course&#x27;, &#x27;Search&#x27;, &#x27;Magazine&#x27;, &#x27;Newspaper Article&#x27;, &#x27;X Education Forums&#x27;, &#x27;Newspaper&#x27;, &#x27;Digital Advertisement&#x27;, &#x27;Through Recommendations&#x27;, &#x27;Receive More Updates About Our Courses&#x27;, &#x27;Tags&#x27;, &#x27;Lead Quality&#x27;, &#x27;Update me on Supply Chain Content&#x27;, &#x27;Get updates on DM Content&#x27;, &#x27;Lead Profile&#x27;, &#x27;City&#x27;, &#x27;Asymmetrique Activity Index&#x27;, &#x27;Asymmetrique Profile Index&#x27;, &#x27;I agree to pay the amount through cheque&#x27;, &#x27;A free copy of Mastering The Interview&#x27;, &#x27;Last Notable Activity&#x27;]</pre></div></div></div><div class=\"sk-serial\"><div class=\"sk-item\"><div class=\"sk-serial\"><div class=\"sk-item\"><div class=\"sk-estimator sk-toggleable\"><input class=\"sk-toggleable__control sk-hidden--visually\" id=\"sk-estimator-id-13\" type=\"checkbox\" ><label for=\"sk-estimator-id-13\" class=\"sk-toggleable__label sk-toggleable__label-arrow\">OneHotEncoder</label><div class=\"sk-toggleable__content\"><pre>OneHotEncoder(handle_unknown=&#x27;ignore&#x27;)</pre></div></div></div></div></div></div></div></div></div></div><div class=\"sk-item\"><div class=\"sk-estimator sk-toggleable\"><input class=\"sk-toggleable__control sk-hidden--visually\" id=\"sk-estimator-id-14\" type=\"checkbox\" ><label for=\"sk-estimator-id-14\" class=\"sk-toggleable__label sk-toggleable__label-arrow\">LogisticRegression</label><div class=\"sk-toggleable__content\"><pre>LogisticRegression(max_iter=1000, random_state=42)</pre></div></div></div></div></div></div></div>"
      ],
      "text/plain": [
       "Pipeline(steps=[('preprocessor',\n",
       "                 ColumnTransformer(transformers=[('num',\n",
       "                                                  Pipeline(steps=[('scaler',\n",
       "                                                                   StandardScaler())]),\n",
       "                                                  ['TotalVisits',\n",
       "                                                   'Total Time Spent on '\n",
       "                                                   'Website',\n",
       "                                                   'Page Views Per Visit']),\n",
       "                                                 ('cat',\n",
       "                                                  Pipeline(steps=[('onehot',\n",
       "                                                                   OneHotEncoder(handle_unknown='ignore'))]),\n",
       "                                                  ['Lead Origin', 'Lead Source',\n",
       "                                                   'Do Not Email',\n",
       "                                                   'Do Not Call',\n",
       "                                                   'Last Activity', 'Country',\n",
       "                                                   'Specialization'...\n",
       "                                                   'Receive More Updates About '\n",
       "                                                   'Our Courses',\n",
       "                                                   'Tags', 'Lead Quality',\n",
       "                                                   'Update me on Supply Chain '\n",
       "                                                   'Content',\n",
       "                                                   'Get updates on DM Content',\n",
       "                                                   'Lead Profile', 'City',\n",
       "                                                   'Asymmetrique Activity '\n",
       "                                                   'Index',\n",
       "                                                   'Asymmetrique Profile Index',\n",
       "                                                   'I agree to pay the amount '\n",
       "                                                   'through cheque',\n",
       "                                                   'A free copy of Mastering '\n",
       "                                                   'The Interview',\n",
       "                                                   'Last Notable Activity'])])),\n",
       "                ('classifier',\n",
       "                 LogisticRegression(max_iter=1000, random_state=42))])"
      ]
     },
     "execution_count": 22,
     "metadata": {},
     "output_type": "execute_result"
    }
   ],
   "source": [
    "clf = Pipeline(steps=[('preprocessor', preprocessor),\n",
    "                      ('classifier', LogisticRegression(max_iter=1000, random_state=42))])\n",
    "\n",
    "clf.fit(X_train, y_train)\n"
   ]
  },
  {
   "cell_type": "markdown",
   "id": "e4adf4fc",
   "metadata": {},
   "source": [
    "## Step 3: Model Evaluation\n",
    "\n",
    "### 3.1 Predictions and Performance Metrics"
   ]
  },
  {
   "cell_type": "code",
   "execution_count": 23,
   "id": "2e6f5fce",
   "metadata": {},
   "outputs": [
    {
     "name": "stdout",
     "output_type": "stream",
     "text": [
      "Accuracy: 0.9222222222222223\n",
      "Precision: 0.9538461538461539\n",
      "Recall: 0.9393939393939394\n"
     ]
    },
    {
     "data": {
      "image/png": "[encoded data removed]",
      "text/plain": [
       "<Figure size 640x480 with 2 Axes>"
      ]
     },
     "metadata": {},
     "output_type": "display_data"
    }
   ],
   "source": [
    "y_pred = clf.predict(X_test)\n",
    "print(f'Accuracy: {accuracy_score(y_test, y_pred)}')\n",
    "print(f'Precision: {precision_score(y_test, y_pred)}')\n",
    "print(f'Recall: {recall_score(y_test, y_pred)}')\n",
    "\n",
    "conf_matrix = confusion_matrix(y_test, y_pred)\n",
    "sns.heatmap(conf_matrix, annot=True, fmt='d')\n",
    "plt.show()\n"
   ]
  },
  {
   "cell_type": "markdown",
   "id": "00ea2e8e",
   "metadata": {},
   "source": [
    "### 3.2 ROC-AUC Score"
   ]
  },
  {
   "cell_type": "code",
   "execution_count": 24,
   "id": "e11136bd",
   "metadata": {},
   "outputs": [
    {
     "data": {
      "image/png": "[encoded data removed]",
      "text/plain": [
       "<Figure size 640x480 with 1 Axes>"
      ]
     },
     "metadata": {},
     "output_type": "display_data"
    }
   ],
   "source": [
    "y_pred_proba = clf.predict_proba(X_test)[:, 1]\n",
    "roc_auc = roc_auc_score(y_test, y_pred_proba)\n",
    "fpr, tpr, _ = roc_curve(y_test, y_pred_proba)\n",
    "\n",
    "plt.plot(fpr, tpr, label=f'ROC curve (area = {roc_auc:0.2f})')\n",
    "plt.plot([0, 1], [0, 1], 'k--')\n",
    "plt.xlabel('False Positive Rate')\n",
    "plt.ylabel('True Positive Rate')\n",
    "plt.title('Receiver Operating Characteristic')\n",
    "plt.legend(loc='best')\n",
    "plt.show()\n"
   ]
  },
  {
   "cell_type": "markdown",
   "id": "63673728",
   "metadata": {},
   "source": [
    "## Step 4: Assigning Lead Scores\n",
    "\n",
    "### 4.1 Predicting Probabilities for Each Lead"
   ]
  },
  {
   "cell_type": "code",
   "execution_count": 25,
   "id": "3710a22f",
   "metadata": {},
   "outputs": [],
   "source": [
    "lead_scores = clf.predict_proba(X)[:, 1]\n",
    "data['Lead_Score'] = lead_scores * 100\n"
   ]
  },
  {
   "cell_type": "markdown",
   "id": "b2b961ec",
   "metadata": {},
   "source": [
    "### 4.2 Display Lead Scores"
   ]
  },
  {
   "cell_type": "code",
   "execution_count": 26,
   "id": "96572418",
   "metadata": {},
   "outputs": [
    {
     "name": "stdout",
     "output_type": "stream",
     "text": [
      "    Lead_Score  Converted\n",
      "6    98.102362          1\n",
      "22   96.791412          1\n",
      "27   99.207342          1\n",
      "37   93.296750          1\n",
      "39   98.422562          1\n"
     ]
    }
   ],
   "source": [
    "print(data[['Lead_Score', 'Converted']].head())\n"
   ]
  },
  {
   "cell_type": "markdown",
   "id": "3964f19f",
   "metadata": {},
   "source": [
    "# Overall Implementation of Model"
   ]
  },
  {
   "cell_type": "code",
   "execution_count": 27,
   "id": "796840de",
   "metadata": {},
   "outputs": [
    {
     "name": "stdout",
     "output_type": "stream",
     "text": [
      "Accuracy: 0.9222222222222223\n",
      "Precision: 0.9538461538461539\n",
      "Recall: 0.9393939393939394\n"
     ]
    },
    {
     "data": {
      "image/png": "[encoded data removed]",
      "text/plain": [
       "<Figure size 640x480 with 2 Axes>"
      ]
     },
     "metadata": {},
     "output_type": "display_data"
    },
    {
     "data": {
      "image/png": "[encoded data removed]",
      "text/plain": [
       "<Figure size 640x480 with 1 Axes>"
      ]
     },
     "metadata": {},
     "output_type": "display_data"
    },
    {
     "name": "stdout",
     "output_type": "stream",
     "text": [
      "    Lead_Score  Converted\n",
      "6    98.102362          1\n",
      "22   96.791412          1\n",
      "27   99.207342          1\n",
      "37   93.296750          1\n",
      "39   98.422562          1\n"
     ]
    }
   ],
   "source": [
    "import pandas as pd\n",
    "import numpy as np\n",
    "import seaborn as sns\n",
    "import matplotlib.pyplot as plt\n",
    "from sklearn.model_selection import train_test_split\n",
    "from sklearn.preprocessing import StandardScaler, OneHotEncoder\n",
    "from sklearn.linear_model import LogisticRegression\n",
    "from sklearn.metrics import accuracy_score, precision_score, recall_score, roc_auc_score, roc_curve, confusion_matrix\n",
    "from sklearn.pipeline import Pipeline\n",
    "from sklearn.compose import ColumnTransformer\n",
    "\n",
    "# Load the data\n",
    "data = pd.read_csv('leads.csv')\n",
    "\n",
    "# Preprocess the data\n",
    "data.replace('Select', np.nan, inplace=True)\n",
    "data.drop(columns=['Lead Number', 'Prospect ID'], inplace=True)\n",
    "data.dropna(thresh=data.shape[1]*0.7, axis=1, inplace=True)\n",
    "data.dropna(inplace=True)\n",
    "\n",
    "# Split the data\n",
    "X = data.drop('Converted', axis=1)\n",
    "y = data['Converted']\n",
    "X_train, X_test, y_train, y_test = train_test_split(X, y, test_size=0.3, random_state=42)\n",
    "\n",
    "# Preprocessing pipelines\n",
    "numerical_features = ['TotalVisits', 'Total Time Spent on Website', 'Page Views Per Visit']\n",
    "categorical_features = X.select_dtypes(include=['object']).columns.tolist()\n",
    "\n",
    "numeric_transformer = Pipeline(steps=[\n",
    "    ('scaler', StandardScaler())\n",
    "])\n",
    "\n",
    "categorical_transformer = Pipeline(steps=[\n",
    "    ('onehot', OneHotEncoder(handle_unknown='ignore'))\n",
    "])\n",
    "\n",
    "preprocessor = ColumnTransformer(\n",
    "    transformers=[\n",
    "        ('num', numeric_transformer, numerical_features),\n",
    "        ('cat', categorical_transformer, categorical_features)\n",
    "    ])\n",
    "\n",
    "# Train the logistic regression model\n",
    "clf = Pipeline(steps=[('preprocessor', preprocessor),\n",
    "                      ('classifier', LogisticRegression(max_iter=1000, random_state=42))])\n",
    "\n",
    "clf.fit(X_train, y_train)\n",
    "\n",
    "# Model evaluation\n",
    "y_pred = clf.predict(X_test)\n",
    "print(f'Accuracy: {accuracy_score(y_test, y_pred)}')\n",
    "print(f'Precision: {precision_score(y_test, y_pred)}')\n",
    "print(f'Recall: {recall_score(y_test, y_pred)}')\n",
    "\n",
    "conf_matrix = confusion_matrix(y_test, y_pred)\n",
    "sns.heatmap(conf_matrix, annot=True, fmt='d')\n",
    "plt.show()\n",
    "\n",
    "# ROC-AUC Score\n",
    "y_pred_proba = clf.predict_proba(X_test)[:, 1]\n",
    "roc_auc = roc_auc_score(y_test, y_pred_proba)\n",
    "fpr, tpr, _ = roc_curve(y_test, y_pred_proba)\n",
    "\n",
    "plt.plot(fpr, tpr, label=f'ROC curve (area = {roc_auc:0.2f})')\n",
    "plt.plot([0, 1], [0, 1], 'k--')\n",
    "plt.xlabel('False Positive Rate')\n",
    "plt.ylabel('True Positive Rate')\n",
    "plt.title('Receiver Operating Characteristic')\n",
    "plt.legend(loc='best')\n",
    "plt.show()\n",
    "\n",
    "# Assigning lead scores\n",
    "lead_scores = clf.predict_proba(X)[:, 1]\n",
    "data['Lead_Score'] = lead_scores * 100\n",
    "\n",
    "# Display lead scores\n",
    "print(data[['Lead_Score', 'Converted']].head())\n"
   ]
  },
  {
   "cell_type": "markdown",
   "id": "1889ba53",
   "metadata": {},
   "source": [
    "### To find the top three variables in your model which contribute most towards the probability of a lead getting converted"
   ]
  },
  {
   "cell_type": "code",
   "execution_count": 28,
   "id": "c331b53c",
   "metadata": {},
   "outputs": [
    {
     "name": "stdout",
     "output_type": "stream",
     "text": [
      "                                     Feature  Coefficient  Importance\n",
      "77  Tags_Will revert after reading the email     2.768790    2.768790\n",
      "71          Tags_Interested in other courses    -1.691345    1.691345\n",
      "67                   Tags_Closed by Horizzon     1.355475    1.355475\n"
     ]
    }
   ],
   "source": [
    "import numpy as np\n",
    "import pandas as pd\n",
    "\n",
    "# Get the names of the columns after preprocessing\n",
    "feature_names = np.array(X_train.columns)\n",
    "categorical_feature_names = clf.named_steps['preprocessor'].transformers_[1][1].named_steps['onehot'].get_feature_names_out(categorical_features)\n",
    "\n",
    "# Combine numerical and categorical feature names\n",
    "all_feature_names = np.concatenate([numerical_features, categorical_feature_names])\n",
    "\n",
    "# Get the coefficients from the logistic regression model\n",
    "coefficients = clf.named_steps['classifier'].coef_[0]\n",
    "\n",
    "# Create a DataFrame to display feature importance\n",
    "feature_importance = pd.DataFrame({'Feature': all_feature_names, 'Coefficient': coefficients})\n",
    "\n",
    "# Take the absolute value of the coefficients to identify the most important features\n",
    "feature_importance['Importance'] = feature_importance['Coefficient'].abs()\n",
    "\n",
    "# Sort the features by their importance\n",
    "feature_importance = feature_importance.sort_values(by='Importance', ascending=False)\n",
    "\n",
    "# Display the top three features\n",
    "print(feature_importance.head(3))\n"
   ]
  },
  {
   "cell_type": "markdown",
   "id": "f831e4a6",
   "metadata": {},
   "source": [
    "### To find the top 3 categorical/dummy variables in the model which should be focused the most on in order to increase the probability of lead conversion"
   ]
  },
  {
   "cell_type": "code",
   "execution_count": 29,
   "id": "fa8c4fe6",
   "metadata": {},
   "outputs": [
    {
     "name": "stdout",
     "output_type": "stream",
     "text": [
      "                                     Feature  Coefficient  Importance\n",
      "74  Tags_Will revert after reading the email     2.768790    2.768790\n",
      "68          Tags_Interested in other courses    -1.691345    1.691345\n",
      "64                   Tags_Closed by Horizzon     1.355475    1.355475\n"
     ]
    }
   ],
   "source": [
    "import pandas as pd\n",
    "import numpy as np\n",
    "import seaborn as sns\n",
    "import matplotlib.pyplot as plt\n",
    "from sklearn.model_selection import train_test_split\n",
    "from sklearn.preprocessing import StandardScaler, OneHotEncoder\n",
    "from sklearn.linear_model import LogisticRegression\n",
    "from sklearn.metrics import accuracy_score, precision_score, recall_score, roc_auc_score, roc_curve, confusion_matrix\n",
    "from sklearn.pipeline import Pipeline\n",
    "from sklearn.compose import ColumnTransformer\n",
    "\n",
    "# Load the data\n",
    "data = pd.read_csv('leads.csv')\n",
    "\n",
    "# Preprocess the data\n",
    "data.replace('Select', np.nan, inplace=True)\n",
    "data.drop(columns=['Lead Number', 'Prospect ID'], inplace=True)\n",
    "data.dropna(thresh=data.shape[1]*0.7, axis=1, inplace=True)\n",
    "data.dropna(inplace=True)\n",
    "\n",
    "# Split the data\n",
    "X = data.drop('Converted', axis=1)\n",
    "y = data['Converted']\n",
    "X_train, X_test, y_train, y_test = train_test_split(X, y, test_size=0.3, random_state=42)\n",
    "\n",
    "# Preprocessing pipelines\n",
    "numerical_features = ['TotalVisits', 'Total Time Spent on Website', 'Page Views Per Visit']\n",
    "categorical_features = X.select_dtypes(include=['object']).columns.tolist()\n",
    "\n",
    "numeric_transformer = Pipeline(steps=[\n",
    "    ('scaler', StandardScaler())\n",
    "])\n",
    "\n",
    "categorical_transformer = Pipeline(steps=[\n",
    "    ('onehot', OneHotEncoder(handle_unknown='ignore'))\n",
    "])\n",
    "\n",
    "preprocessor = ColumnTransformer(\n",
    "    transformers=[\n",
    "        ('num', numeric_transformer, numerical_features),\n",
    "        ('cat', categorical_transformer, categorical_features)\n",
    "    ])\n",
    "\n",
    "# Train the logistic regression model\n",
    "clf = Pipeline(steps=[('preprocessor', preprocessor),\n",
    "                      ('classifier', LogisticRegression(max_iter=1000, random_state=42))])\n",
    "\n",
    "clf.fit(X_train, y_train)\n",
    "\n",
    "# Get the names of the columns after preprocessing\n",
    "categorical_feature_names = clf.named_steps['preprocessor'].transformers_[1][1].named_steps['onehot'].get_feature_names_out(categorical_features)\n",
    "\n",
    "# Get the coefficients from the logistic regression model\n",
    "coefficients = clf.named_steps['classifier'].coef_[0]\n",
    "\n",
    "# Combine categorical feature names and their corresponding coefficients\n",
    "categorical_importance = pd.DataFrame({'Feature': categorical_feature_names, 'Coefficient': coefficients[len(numerical_features):]})\n",
    "\n",
    "# Take the absolute value of the coefficients to identify the most important features\n",
    "categorical_importance['Importance'] = categorical_importance['Coefficient'].abs()\n",
    "\n",
    "# Sort the features by their importance\n",
    "categorical_importance = categorical_importance.sort_values(by='Importance', ascending=False)\n",
    "\n",
    "# Display the top three categorical features\n",
    "print(categorical_importance.head(3))\n"
   ]
  }
 ],
 "metadata": {
  "kernelspec": {
   "display_name": "Python 3 (ipykernel)",
   "language": "python",
   "name": "python3"
  },
  "language_info": {
   "codemirror_mode": {
    "name": "ipython",
    "version": 3
   },
   "file_extension": ".py",
   "mimetype": "text/x-python",
   "name": "python",
   "nbconvert_exporter": "python",
   "pygments_lexer": "ipython3",
   "version": "3.11.5"
  }
 },
 "nbformat": 4,
 "nbformat_minor": 5
}
